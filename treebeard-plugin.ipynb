{
 "cells": [
  {
   "cell_type": "code",
   "execution_count": 1,
   "metadata": {},
   "outputs": [],
   "source": [
    "import nbconvert"
   ]
  },
  {
   "cell_type": "markdown",
   "metadata": {},
   "source": [
    "### Project Treebeard: Studying Forest Heterogeneity with Automated LIDAR Processing and Canopy Analysis\n",
    "\n",
    "**Introduction:**\n",
    "\n",
    "TBE\n",
    "\n",
    "**Project Overview:**\n",
    "\n",
    "The Treebeard plugin is designed to assist forest managers working with large tracts of forested land by integrating tools for LIDAR data processing, canopy gap analysis, and project-specific geospatial analysis. The plugin offers a user-friendly interface for selecting and processing LIDAR files, defining project boundaries, and generating detailed canopy analysis outputs. The key features of the plugin include:\n",
    "\n",
    "- **Automated LIDAR Processing:** Convert raw LIDAR data (.las files) into actionable insights by automatically generating canopy height models and identifying gaps.\n",
    "- **Customizable Analysis Parameters:** Users can define key parameters such as canopy height thresholds and buffer distances to tailor the analysis to their specific needs.\n",
    "- **Seamless Integration with QGIS:** The plugin is fully integrated within the QGIS environment, allowing users to leverage existing QGIS tools alongside the plugin’s capabilities.\n",
    "\n",
    "**Key Features:**\n",
    "\n",
    "1. **LIDAR Data Handling:**\n",
    "   - Import LIDAR data directly from QGIS layers or from local directories.\n",
    "   - Automatically validate file paths and directories to ensure smooth processing.\n",
    "   - Generate digital elevation models (DEMs) for both ground and first returns, crucial for canopy analysis.\n",
    "\n",
    "2. **Canopy Gap Analysis:**\n",
    "   - Identify and categorize canopy gaps based on user-defined parameters.\n",
    "   - Buffer and clip canopy areas for detailed spatial analysis.\n",
    "   - Exports results as shapefiles for further analysis or integration into larger projects.\n",
    "\n",
    "3. **User-Friendly Interface:**\n",
    "   - Simple dialog-based interaction for setting up analysis parameters.\n",
    "   - Real-time feedback and error handling ensure a smooth user experience.\n",
    "   - Direct integration with QGIS layers for easy visualization and further analysis.\n",
    "\n",
    "**Installation Guide:**\n",
    "\n",
    "The plugin can be installed directly from the repository or by running a setup script that automates the installation of dependencies:\n",
    "\n",
    "1. **Clone or Download the Repository:**\n",
    "   - Access the plugin’s [GitHub repository](#) and either clone it using Git or download it as a ZIP file.\n",
    "\n",
    "2. **Run the Setup Script:**\n",
    "   - Navigate to the plugin directory and run the provided setup script (`setup.bat` for Windows or `setup.sh` for macOS/Linux) to install all necessary dependencies.\n",
    "\n",
    "3. **Manual Installation:**\n",
    "   - If preferred, manually install dependencies using `pip` and copy the plugin files to the QGIS plugin directory.\n",
    "\n",
    "**How It Works:**\n",
    "\n",
    "Upon installation, the plugin appears in the QGIS interface, ready to be used. Users can select LIDAR files and boundary polygons, define analysis parameters, and run the canopy analysis with just a few clicks. The plugin handles the heavy lifting of processing LIDAR data, ensuring that the output is ready for immediate use within QGIS or export for further analysis.\n",
    "\n",
    "# TBE\n"
   ]
  },
  {
   "cell_type": "markdown",
   "metadata": {},
   "source": [
    "## SETUP SCRIPT"
   ]
  },
  {
   "cell_type": "code",
   "execution_count": null,
   "metadata": {
    "vscode": {
     "languageId": "bat"
    }
   },
   "outputs": [],
   "source": [
    "@echo off\n",
    "setlocal\n",
    "\n",
    "REM Set the QGIS directory\n",
    "set QGIS_DIR=C:\\Program Files\\QGIS 3.36.3\n",
    "\n",
    "REM Add the QGIS bin directory to the PATH\n",
    "set PATH=%QGIS_DIR%\\bin;%PATH%\n",
    "\n",
    "REM Define the OSGeo4W setup command\n",
    "set OSGeo4W_SETUP=%QGIS_DIR%\\OSGeo4W.bat\n",
    "\n",
    "REM Ensure the OSGeo4W batch file exists\n",
    "if not exist \"%OSGeo4W_SETUP%\" (\n",
    "    echo \"OSGeo4W batch file not found at %OSGeo4W_SETUP%\"\n",
    "    pause\n",
    "    exit /b 1\n",
    ")\n",
    "\n",
    "REM Sync plugin files to the QGIS plugin directory\n",
    "set DEV_DIR=%~dp0\n",
    "set PLUGIN_DIR=%USERPROFILE%\\AppData\\Roaming\\QGIS\\QGIS3\\profiles\\default\\python\\plugins\\treebeard\n",
    "\n",
    "echo Development Directory: %DEV_DIR%\n",
    "echo Plugin Directory: %PLUGIN_DIR%\n",
    "\n",
    "echo Syncing the specified files from the development folder to the QGIS plugin directory...\n",
    "robocopy \"%DEV_DIR%\" \"%PLUGIN_DIR%\" treebeard.py treebeard_dialog.py __init__.py\n",
    "\n",
    "REM Install necessary Python packages using OSGeo4W\n",
    "echo Installing dependencies using OSGeo4W...\n",
    "call \"%OSGeo4W_SETUP%\" ^\n",
    "    python3-rioxarray ^\n",
    "    python3-rasterio ^\n",
    "    python3-geopandas ^\n",
    "    python3-shapely ^\n",
    "    python3-scipy ^\n",
    "    python3-whitebox ^\n",
    "    python3-scikit-learn ^\n",
    "    python3-fiona ^\n",
    "    python3-pyogrio ^\n",
    "    python3-laspy\n",
    "\n",
    "if errorlevel 1 (\n",
    "    echo \"Error occurred during the installation of packages.\"\n",
    "    pause\n",
    "    exit /b 1\n",
    ")\n",
    "\n",
    "echo Restart QGIS to see the changes.\n",
    "pause\n",
    "endlocal\n"
   ]
  },
  {
   "cell_type": "code",
   "execution_count": null,
   "metadata": {
    "vscode": {
     "languageId": "bat"
    }
   },
   "outputs": [],
   "source": [
    "@echo off\n",
    "setlocal\n",
    "\n",
    "REM Get the directory where the batch file is located (the dev folder)\n",
    "set \"DEV_DIR=%~dp0\"\n",
    "set \"PLUGIN_DIR=%USERPROFILE%\\AppData\\Roaming\\QGIS\\QGIS3\\profiles\\default\\python\\plugins\\treebeard\"\n",
    "\n",
    "if \"%DEV_DIR:~-1%\"==\"\\\" set \"DEV_DIR=%DEV_DIR:~0,-1%\"\n",
    "\n",
    "REM List of files to sync\n",
    "set \"FILES=treebeard.py treebeard_dialog.py import_raster_dialog.py import_lidar_dialog.py __init__.py treebeard_dialog_base.ui setup.bat setup.sh resources.qrc update. process_lidar.py drapp.py segment_drapp.py\"\n",
    "\n",
    "REM Debugging output to check paths and files\n",
    "echo Development Directory: %DEV_DIR%\n",
    "echo Plugin Directory: %PLUGIN_DIR%\n",
    "echo Files to sync: %FILES%\n",
    "\n",
    "echo Syncing the specified files from development folder to QGIS plugin directory...\n",
    "\n",
    "REM Iterate over the list of files and sync each one\n",
    "for %%F in (%FILES%) do (\n",
    "    echo Syncing %%F...\n",
    "    robocopy \"%DEV_DIR%\" \"%PLUGIN_DIR%\" \"%%F\" /XO /XC /R:3 /W:10\n",
    ")\n",
    "\n",
    "echo Restart QGIS to see the changes.\n",
    "pause\n",
    "endlocal\n"
   ]
  },
  {
   "cell_type": "code",
   "execution_count": null,
   "metadata": {
    "vscode": {
     "languageId": "bat"
    }
   },
   "outputs": [],
   "source": [
    "%%capture\n",
    "%%bash\n",
    "jupyter nbconvert treebeard-plugin.ipynb --to html --no-input"
   ]
  }
 ],
 "metadata": {
  "kernelspec": {
   "display_name": "earth-analytics-python",
   "language": "python",
   "name": "python3"
  },
  "language_info": {
   "codemirror_mode": {
    "name": "ipython",
    "version": 3
   },
   "file_extension": ".py",
   "mimetype": "text/x-python",
   "name": "python",
   "nbconvert_exporter": "python",
   "pygments_lexer": "ipython3",
   "version": "3.10.13"
  }
 },
 "nbformat": 4,
 "nbformat_minor": 2
}
